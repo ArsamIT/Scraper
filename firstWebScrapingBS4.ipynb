{
 "cells": [
  {
   "cell_type": "code",
   "execution_count": 1,
   "id": "e85e0ac3-6ea5-404b-b6da-acc6ab935493",
   "metadata": {},
   "outputs": [],
   "source": [
    "import requests\n",
    "from bs4 import BeautifulSoup\n",
    "import pandas as pd"
   ]
  },
  {
   "cell_type": "code",
   "execution_count": 2,
   "id": "ac8c61f9-0dc9-4e00-ba2d-02665b029b57",
   "metadata": {},
   "outputs": [],
   "source": [
    "url = 'https://www.famcap.com/top-500-german-family-businesses-the-economy-most-dependent-on-family-enterprises/'\n",
    "page = requests.get(url)\n",
    "soup = BeautifulSoup(page.text, 'html')"
   ]
  },
  {
   "cell_type": "code",
   "execution_count": 3,
   "id": "a007567d-1d1c-4fba-86d8-8bb0fe380bf1",
   "metadata": {},
   "outputs": [],
   "source": [
    "table = soup.find('table')"
   ]
  },
  {
   "cell_type": "code",
   "execution_count": 4,
   "id": "016304eb-a332-47c2-bfde-700415bbeda2",
   "metadata": {},
   "outputs": [],
   "source": [
    "companies_titles = table.find_all('th')"
   ]
  },
  {
   "cell_type": "code",
   "execution_count": 5,
   "id": "f560bfcd-70c7-43da-afdf-31eef3e84d55",
   "metadata": {},
   "outputs": [],
   "source": [
    "words_companies_titles = [title.text.strip() for title in companies_titles]"
   ]
  },
  {
   "cell_type": "code",
   "execution_count": 7,
   "id": "d486765d-5ac3-48f6-893d-241f8691ed5c",
   "metadata": {},
   "outputs": [],
   "source": [
    "df = pd.DataFrame(columns = words_companies_titles)"
   ]
  },
  {
   "cell_type": "code",
   "execution_count": 8,
   "id": "5dad10c5-5f2c-4d80-bf6b-7f5556a38553",
   "metadata": {},
   "outputs": [],
   "source": [
    "column_data = table.find_all('tr')"
   ]
  },
  {
   "cell_type": "code",
   "execution_count": 9,
   "id": "ad45ce84-c70d-43d5-a4fd-033ca93efd98",
   "metadata": {},
   "outputs": [],
   "source": [
    "for row in column_data[1:]:\n",
    "    row_data = row.find_all('td')\n",
    "    individual_row_data = [data.text.strip() for data in row_data]\n",
    "    #print(individual_row_data)\n",
    "    length = len(df)\n",
    "    df.loc[length] = individual_row_data\n",
    "\n",
    "df = df.drop('wdt_ID', axis=1)\n",
    "df = df.drop(df.index[-1])"
   ]
  },
  {
   "cell_type": "code",
   "execution_count": 10,
   "id": "0418f73f-bf21-4f71-8f95-5184d745e044",
   "metadata": {},
   "outputs": [],
   "source": [
    "df.to_csv(r'/Users/arsi/Documents/Coding/scrapy/top500GermanCompanies.csv', index = False)"
   ]
  },
  {
   "cell_type": "code",
   "execution_count": 11,
   "id": "6243924c-0b25-4191-b305-8628d2acbd00",
   "metadata": {},
   "outputs": [
    {
     "name": "stdout",
     "output_type": "stream",
     "text": [
      "<class 'pandas.core.frame.DataFrame'>\n",
      "Index: 500 entries, 0 to 499\n",
      "Data columns (total 14 columns):\n",
      " #   Column                Non-Null Count  Dtype \n",
      "---  ------                --------------  ----- \n",
      " 0   Rank                  500 non-null    object\n",
      " 1   Company               500 non-null    object\n",
      " 2   Revenues 2018 $m      500 non-null    object\n",
      " 3   Employees             500 non-null    object\n",
      " 4   Family ownership      500 non-null    object\n",
      " 5   Founded               500 non-null    object\n",
      " 6   Public/Private        500 non-null    object\n",
      " 7   Generation            500 non-null    object\n",
      " 8   Family executive      500 non-null    object\n",
      " 9   Woman in leadership   500 non-null    object\n",
      " 10  Sector                500 non-null    object\n",
      " 11  Headquarters          500 non-null    object\n",
      " 12  State (abbreviation)  500 non-null    object\n",
      " 13  Website               500 non-null    object\n",
      "dtypes: object(14)\n",
      "memory usage: 58.6+ KB\n"
     ]
    }
   ],
   "source": [
    "df.info()"
   ]
  },
  {
   "cell_type": "code",
   "execution_count": 12,
   "id": "a1234db9-ca14-41bd-8e71-53b8fcc18456",
   "metadata": {},
   "outputs": [],
   "source": [
    "df.loc[df['Generation'] == 'N.A.', 'Generation'] = '10'"
   ]
  },
  {
   "cell_type": "code",
   "execution_count": 28,
   "id": "946c68f0-1d49-4d4c-8cbe-7c54f921e02b",
   "metadata": {},
   "outputs": [],
   "source": [
    "df.loc[df['Website'] == '-', 'Website'] = 'Unknown'"
   ]
  },
  {
   "cell_type": "code",
   "execution_count": 29,
   "id": "abd89e22-3a85-4ba7-8053-7b7342ba1dec",
   "metadata": {},
   "outputs": [],
   "source": [
    "df.to_csv(r'/Users/arsi/Documents/Coding/scrapy/top500GermanCompanies.csv', index = False)"
   ]
  },
  {
   "cell_type": "code",
   "execution_count": null,
   "id": "f6010e70-6186-4662-8c15-2a3a365fe1c7",
   "metadata": {},
   "outputs": [],
   "source": []
  }
 ],
 "metadata": {
  "kernelspec": {
   "display_name": "Python 3 (ipykernel)",
   "language": "python",
   "name": "python3"
  },
  "language_info": {
   "codemirror_mode": {
    "name": "ipython",
    "version": 3
   },
   "file_extension": ".py",
   "mimetype": "text/x-python",
   "name": "python",
   "nbconvert_exporter": "python",
   "pygments_lexer": "ipython3",
   "version": "3.12.4"
  }
 },
 "nbformat": 4,
 "nbformat_minor": 5
}
